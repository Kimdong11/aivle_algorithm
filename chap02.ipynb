{
 "cells": [
  {
   "cell_type": "markdown",
   "metadata": {},
   "source": [
    "### MEMO\n",
    "enumerate(LIST-NAME) 을 활용해 인덱스와 값을 동시에 보여주기 가능\n",
    "\n",
    "return if () else value => 문장 자체에 조건문 활용가능"
   ]
  },
  {
   "cell_type": "markdown",
   "metadata": {},
   "source": [
    "### 미니실습 1 \n",
    "\n",
    "리스트 안의 원소중 가장 작은 원소를 출력하는 함수 제작!\n",
    "\n"
   ]
  },
  {
   "cell_type": "code",
   "execution_count": 7,
   "metadata": {},
   "outputs": [
    {
     "name": "stdout",
     "output_type": "stream",
     "text": [
      "1\n"
     ]
    }
   ],
   "source": [
    "n = int(input(\"원소의 개수를 입력하세요 : \"))\n",
    "x = []\n",
    "\n",
    "for i in range(n) :\n",
    "    a = input(\"원소를 입력하세요 : \")\n",
    "    x.append(a)\n",
    "\n",
    "def min_of(x_list) :\n",
    "    minimum = x_list[0] \n",
    "    for i in range(n) :\n",
    "        if x_list[i] < minimum :\n",
    "            minimum = x_list[i]\n",
    "    return minimum\n",
    "\n",
    "b = min_of(x)\n",
    "print(b)\n",
    "\n"
   ]
  },
  {
   "cell_type": "markdown",
   "metadata": {},
   "source": [
    "### 미니실습 2\n",
    "리스트를 사용자로부터 입력받아서 역순으로 정렬하여 리스트의 원소를 출력하라.\n"
   ]
  },
  {
   "cell_type": "code",
   "execution_count": 10,
   "metadata": {},
   "outputs": [
    {
     "name": "stdout",
     "output_type": "stream",
     "text": [
      "x[0] = 2\n"
     ]
    }
   ],
   "source": [
    "n = int(input(\"원소의 개수를 입력하세요 : \"))\n",
    "x = []\n",
    "\n",
    "for i in range(n) :\n",
    "    a = input(\"원소를 입력하세요 : \")\n",
    "    x.append(a)\n",
    "    \n",
    "for i in range(n // 2) :\n",
    "    x[i], x[n-i-1] = x[n-i-1], x[i]\n",
    "     \n",
    "for i, name in enumerate(x) :\n",
    "    print(f\"x[{i}] = {name}\")"
   ]
  },
  {
   "cell_type": "markdown",
   "metadata": {},
   "source": [
    "### 선형검색(Linear Search)\n",
    "\n",
    "배열과 같은 자료구조에서 처음부터 끝까지 순차적으로 검색하는 알고리즘"
   ]
  },
  {
   "cell_type": "markdown",
   "metadata": {},
   "source": [
    "### 미니실습 3\n",
    "while 문과 보초법을 사용했을 때 if문 실행 횟수 비교"
   ]
  },
  {
   "cell_type": "code",
   "execution_count": 27,
   "metadata": {},
   "outputs": [
    {
     "name": "stdout",
     "output_type": "stream",
     "text": [
      "(6, 14)\n",
      "6\n"
     ]
    }
   ],
   "source": [
    "a = [2, 5, 1, 3, 9, 6, 7]\n",
    "\n",
    "def seq_search(a, key) :\n",
    "    i = 0\n",
    "    count = 0\n",
    "    while True :\n",
    "        count += 1\n",
    "        if i == len(a) :\n",
    "            return (-1, count)\n",
    "        count += 1\n",
    "        if a[i] == key :\n",
    "            return (i, count)\n",
    "        \n",
    "        i += 1\n",
    "        \n",
    "def sentinel(b, key) :\n",
    "    i = 0\n",
    "    a = b.copy()\n",
    "    a.append(key)\n",
    "    count = 0\n",
    "    while True :\n",
    "        count += 1\n",
    "        if a[i] == key :\n",
    "            break\n",
    "        i += 1\n",
    "    return (-1, count) if i == len(b) else i\n",
    "\n",
    "print(seq_search(a, 7))\n",
    "print(sentinel(a, 7))\n"
   ]
  },
  {
   "cell_type": "markdown",
   "metadata": {},
   "source": [
    "### 이진 검색(Binary Search)\n",
    "배열이 오름차순이나 내림차순으로 정렬되어있어야 사용 가능"
   ]
  },
  {
   "cell_type": "markdown",
   "metadata": {},
   "source": []
  },
  {
   "cell_type": "code",
   "execution_count": 28,
   "metadata": {},
   "outputs": [
    {
     "name": "stdout",
     "output_type": "stream",
     "text": [
      "15\n"
     ]
    },
    {
     "data": {
      "text/plain": [
       "8"
      ]
     },
     "execution_count": 28,
     "metadata": {},
     "output_type": "execute_result"
    }
   ],
   "source": [
    "a = [2, 5, 1, 3, 9, 6, 7, 10, 32, 12, 23, 11, 14, 8, 13]\n",
    "print(len(a))\n",
    "a.sort()\n",
    "\n",
    "def binary_search(a, key) :\n",
    "    pl = 0\n",
    "    pr = len(a) - 1\n",
    "    \n",
    "    while True :\n",
    "        pc = (pl + pr) // 2\n",
    "        if a[pc] == key :\n",
    "            return pc\n",
    "        elif a[pc] < key :\n",
    "            pl = pc + 1\n",
    "        else :\n",
    "            pr = pc - 1\n",
    "        if pl > pr :\n",
    "            return -1\n",
    "        \n",
    "binary_search(a, 10)"
   ]
  },
  {
   "cell_type": "markdown",
   "metadata": {},
   "source": [
    "### 실습 1\n",
    "2부터 1000까지의 수 중에서 소수를 리스트에 입력하고 출력하라."
   ]
  },
  {
   "cell_type": "code",
   "execution_count": 31,
   "metadata": {},
   "outputs": [
    {
     "name": "stdout",
     "output_type": "stream",
     "text": [
      "2   3   5   7   11   13   17   19   23   29   31   37   41   43   47   53   59   61   67   71   73   79   83   89   97   101   103   107   109   113   121   127   131   137   139   143   149   151   157   163   167   169   173   179   181   187   191   193   197   199   209   211   221   223   227   229   233   239   241   247   251   253   257   263   269   271   277   281   283   289   293   299   307   311   313   317   319   323   331   337   341   347   349   353   359   361   367   373   377   379   383   389   391   397   401   403   407   409   419   421   431   433   437   439   443   449   451   457   461   463   467   473   479   481   487   491   493   499   503   509   517   521   523   527   529   533   541   547   551   557   559   563   569   571   577   583   587   589   593   599   601   607   611   613   617   619   629   631   641   643   647   649   653   659   661   667   671   673   677   683   689   691   697   701   703   709   713   719   727   731   733   737   739   743   751   757   761   767   769   773   779   781   787   793   797   799   803   809   811   817   821   823   827   829   839   841   851   853   857   859   863   869   871   877   881   883   887   893   899   901   907   911   913   919   923   929   937   941   943   947   949   953   961   967   971   977   979   983   989   991   997   "
     ]
    }
   ],
   "source": [
    "prime_num = [2, 3, 5, 7]\n",
    "\n",
    "for i in range(2, 1001) :\n",
    "    if (i % 2 != 0 and i % 3 != 0 and i % 5 != 0 and i % 7 != 0) :\n",
    "        prime_num.append(i)\n",
    "        \n",
    "for i in prime_num :\n",
    "    print(i, end=\"   \")"
   ]
  },
  {
   "cell_type": "markdown",
   "metadata": {},
   "source": [
    "### 실습 2\n",
    "리스트를 사용자로부터 입력받아서 역순으로 정렬하여 리스트의 원소를 출력하라"
   ]
  },
  {
   "cell_type": "code",
   "execution_count": 33,
   "metadata": {},
   "outputs": [
    {
     "name": "stdout",
     "output_type": "stream",
     "text": [
      "list_a[0] = 1\n",
      "list_a[1] = 2\n",
      "list_a[2] = 3\n",
      "list_a[3] = 4\n",
      "list_a[4] = 5\n",
      "list_a[5] = 6\n",
      "list_a[6] = 6\n",
      "\n",
      "\n",
      "list_a[0] = 6\n",
      "list_a[1] = 6\n",
      "list_a[2] = 5\n",
      "list_a[3] = 4\n",
      "list_a[4] = 3\n",
      "list_a[5] = 2\n",
      "list_a[6] = 1\n"
     ]
    }
   ],
   "source": [
    "n = int(input(\"원하는 원소의 개수를 입력하세요 : \"))\n",
    "list_a = []\n",
    "\n",
    "for i in range(n) :\n",
    "    a = input(\"원소를 입력하세요 : \")\n",
    "    list_a.append(a)\n",
    "\n",
    "for i, value in enumerate(list_a) :\n",
    "    print(f\"list_a[{i}] = {value}\")\n",
    "\n",
    "print(\"\\n\")\n",
    "for i in range(n // 2) :\n",
    "    list_a[i], list_a[n-i-1] = list_a[n-i-1], list_a[i]\n",
    "    \n",
    "for i, value in enumerate(list_a) :\n",
    "    print(f\"list_a[{i}] = {value}\")\n",
    "    \n"
   ]
  },
  {
   "cell_type": "markdown",
   "metadata": {},
   "source": [
    "### 실습 3\n",
    "리스트와 검색할 값을 사용자로부터 입력받아서 검색값이 있는 인덱스를 출력하라.\n"
   ]
  },
  {
   "cell_type": "code",
   "execution_count": 50,
   "metadata": {},
   "outputs": [
    {
     "name": "stdout",
     "output_type": "stream",
     "text": [
      "[2, 7, 8, 11, 19, 21, 25, 32, 44]\n",
      "검색값이 존재하지 않습니다.\n"
     ]
    }
   ],
   "source": [
    "# Binary Search\n",
    "n = int(input(\"원하는 원소의 개수를 입력하세요 : \"))\n",
    "list_a = []\n",
    "\n",
    "for i in range(n) :\n",
    "    a = int(input(\"원소를 입력하세요 : \"))\n",
    "    list_a.append(a)\n",
    "\n",
    "list_a.sort()\n",
    "print(list_a)\n",
    "\n",
    "def binary_search(a, key) :\n",
    "    pl = 0\n",
    "    pr = len(a) - 1\n",
    "    \n",
    "    while True :\n",
    "        pc = (pl + pr) // 2\n",
    "        if a[pc] == key :\n",
    "            return pc\n",
    "        elif a[pc] < key :\n",
    "            pl = pc + 1\n",
    "        else :\n",
    "            pr = pc - 1\n",
    "        if pl > pr :\n",
    "            return -1\n",
    "\n",
    "index = binary_search(list_a, 6)\n",
    "\n",
    "if index == -1 :\n",
    "    print(\"검색값이 존재하지 않습니다.\")\n",
    "else :\n",
    "    print(f\"검색값의 인덱스는 {index}입니다.\")\n",
    "\n"
   ]
  },
  {
   "cell_type": "code",
   "execution_count": 51,
   "metadata": {},
   "outputs": [
    {
     "ename": "ValueError",
     "evalue": "invalid literal for int() with base 10: ''",
     "output_type": "error",
     "traceback": [
      "\u001b[0;31m---------------------------------------------------------------------------\u001b[0m",
      "\u001b[0;31mValueError\u001b[0m                                Traceback (most recent call last)",
      "Input \u001b[0;32mIn [51]\u001b[0m, in \u001b[0;36m<module>\u001b[0;34m\u001b[0m\n\u001b[1;32m      1\u001b[0m \u001b[38;5;66;03m# Linear Search (sentinel)\u001b[39;00m\n\u001b[0;32m----> 2\u001b[0m n \u001b[38;5;241m=\u001b[39m \u001b[38;5;28;43mint\u001b[39;49m\u001b[43m(\u001b[49m\u001b[38;5;28;43minput\u001b[39;49m\u001b[43m(\u001b[49m\u001b[38;5;124;43m\"\u001b[39;49m\u001b[38;5;124;43m원하는 원소의 개수를 입력하세요 : \u001b[39;49m\u001b[38;5;124;43m\"\u001b[39;49m\u001b[43m)\u001b[49m\u001b[43m)\u001b[49m\n\u001b[1;32m      3\u001b[0m list_a \u001b[38;5;241m=\u001b[39m []\n\u001b[1;32m      5\u001b[0m \u001b[38;5;28;01mfor\u001b[39;00m i \u001b[38;5;129;01min\u001b[39;00m \u001b[38;5;28mrange\u001b[39m(n) :\n",
      "\u001b[0;31mValueError\u001b[0m: invalid literal for int() with base 10: ''"
     ]
    }
   ],
   "source": [
    "# Linear Search (sentinel)\n",
    "n = int(input(\"원하는 원소의 개수를 입력하세요 : \"))\n",
    "list_a = []\n",
    "\n",
    "for i in range(n) :\n",
    "    a = int(input(\"원소를 입력하세요 : \"))\n",
    "    list_a.append(a)\n",
    "print(list_a)\n",
    "def seq_search_sentinel(a, key) :\n",
    "    b = a.copy()\n",
    "    b.append(key)\n",
    "\n",
    "    i = 0\n",
    "    while True :\n",
    "        if b[i] == key :\n",
    "            break\n",
    "        i += 1\n",
    "        \n",
    "    return -1 if i == len(b) - 1 else i\n",
    "\n",
    "index = seq_search_sentinel(list_a, 8)\n",
    "if index == -1 :\n",
    "    print(\"검색값이 존재하지 않습니다.\")\n",
    "else :\n",
    "    print(f\"검색값의 인덱스는 {index}입니다.\")"
   ]
  },
  {
   "cell_type": "markdown",
   "metadata": {},
   "source": [
    "### 실습 4\n",
    "리스트를 사용자로부터 입력 받아서 최대값과 최솟값이 있는 인덱스를 출력하라."
   ]
  },
  {
   "cell_type": "code",
   "execution_count": null,
   "metadata": {},
   "outputs": [],
   "source": [
    "# 함수 사용 X\n",
    "n = int(input(\"원하는 원소의 개수를 입력하세요 : \"))\n",
    "list_a = []\n",
    "\n",
    "for i in range(n) :\n",
    "    a = int(input(\"원소를 입력하세요 : \"))\n",
    "    list_a.append(a)\n",
    "    \n",
    "print(list_a)\n",
    "\n",
    "maximum = list_a[0] \n",
    "max_index = 0\n",
    "\n",
    "for i in range(n) :\n",
    "    if list_a[i] > maximum :\n",
    "        maximum = list_a[i]\n",
    "        max_index = i\n",
    "        \n",
    "minimum = list_a[0]\n",
    "mini_index = 0\n",
    "\n",
    "for i in range(n) :\n",
    "    if list_a[i] < minimum :\n",
    "        minimum = list_a[i]\n",
    "        mini_index = i\n",
    "        \n",
    "print(f\"위 리스트의 최대값은 {maximum}이고 인덱스는 {max_index}\")\n",
    "print(f\"위 리스트의 최소값은 {minimum}이고 인덱스는 {mini_index}\")\n"
   ]
  },
  {
   "cell_type": "code",
   "execution_count": null,
   "metadata": {},
   "outputs": [],
   "source": []
  }
 ],
 "metadata": {
  "interpreter": {
   "hash": "c7bfa5baa67de9683702e3a5c2c2de86ef575a13d1496f7ae32fc083b95de13a"
  },
  "kernelspec": {
   "display_name": "Python 3.9.9 64-bit",
   "language": "python",
   "name": "python3"
  },
  "language_info": {
   "codemirror_mode": {
    "name": "ipython",
    "version": 3
   },
   "file_extension": ".py",
   "mimetype": "text/x-python",
   "name": "python",
   "nbconvert_exporter": "python",
   "pygments_lexer": "ipython3",
   "version": "3.9.9"
  },
  "orig_nbformat": 4
 },
 "nbformat": 4,
 "nbformat_minor": 2
}
